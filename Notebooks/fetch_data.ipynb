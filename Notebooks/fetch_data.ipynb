{
 "cells": [
  {
   "cell_type": "code",
   "execution_count": 5,
   "metadata": {},
   "outputs": [],
   "source": [
    "#pip install py3dep\n",
    "#pip install pynhd\n",
    "#pip install sklearn\n",
    "#!pip install laspy[lazrs]\n",
    "#!pip install pandas\n",
    "#!pip install geopandas\n",
    "#!pip install shapely\n",
    "#!pip install plotly\n",
    "#!pip install -U kaleido"
   ]
  },
  {
   "cell_type": "code",
   "execution_count": 29,
   "metadata": {},
   "outputs": [],
   "source": [
    "import numpy as np \n",
    "import pandas as pd\n",
    "import os,sys\n",
    "import laspy\n",
    "\n",
    "from geopandas import GeoDataFrame\n",
    "from shapely.geometry import Polygon,Point\n",
    "import plotly.offline as go_offline\n",
    "import plotly.graph_objects as go\n",
    "import plotly.express as px\n",
    "sys.path.append(os.path.abspath(os.path.join('../Scripts')))\n",
    "from file_handler import FileHandler\n",
    "\n",
    "import warnings\n",
    "warnings.filterwarnings('ignore')"
   ]
  },
  {
   "cell_type": "code",
   "execution_count": 9,
   "metadata": {},
   "outputs": [],
   "source": [
    "\n",
    "\n",
    "try:\n",
    "    inFile = laspy.read('../laz-las-json/iowa.laz')\n",
    "except FileNotFoundError:\n",
    "    print(\"File not Found\")\n",
    "    \n",
    "lidar_points = np.array((inFile.x,inFile.y,inFile.z,inFile.intensity,\n",
    "               inFile.raw_classification,inFile.scan_angle_rank)).transpose()\n",
    "\n",
    "#Transform to pandas DataFrame\n",
    "lidar_df=pd.DataFrame(lidar_points)"
   ]
  },
  {
   "cell_type": "code",
   "execution_count": 10,
   "metadata": {},
   "outputs": [
    {
     "data": {
      "text/html": [
       "<div>\n",
       "<style scoped>\n",
       "    .dataframe tbody tr th:only-of-type {\n",
       "        vertical-align: middle;\n",
       "    }\n",
       "\n",
       "    .dataframe tbody tr th {\n",
       "        vertical-align: top;\n",
       "    }\n",
       "\n",
       "    .dataframe thead th {\n",
       "        text-align: right;\n",
       "    }\n",
       "</style>\n",
       "<table border=\"1\" class=\"dataframe\">\n",
       "  <thead>\n",
       "    <tr style=\"text-align: right;\">\n",
       "      <th></th>\n",
       "      <th>0</th>\n",
       "      <th>1</th>\n",
       "      <th>2</th>\n",
       "      <th>3</th>\n",
       "      <th>4</th>\n",
       "      <th>5</th>\n",
       "    </tr>\n",
       "  </thead>\n",
       "  <tbody>\n",
       "    <tr>\n",
       "      <th>0</th>\n",
       "      <td>446179.84</td>\n",
       "      <td>4654067.44</td>\n",
       "      <td>277.06</td>\n",
       "      <td>96.0</td>\n",
       "      <td>2.0</td>\n",
       "      <td>10.0</td>\n",
       "    </tr>\n",
       "    <tr>\n",
       "      <th>1</th>\n",
       "      <td>446181.77</td>\n",
       "      <td>4654067.16</td>\n",
       "      <td>278.33</td>\n",
       "      <td>25.0</td>\n",
       "      <td>2.0</td>\n",
       "      <td>10.0</td>\n",
       "    </tr>\n",
       "    <tr>\n",
       "      <th>2</th>\n",
       "      <td>446183.40</td>\n",
       "      <td>4654067.06</td>\n",
       "      <td>276.64</td>\n",
       "      <td>88.0</td>\n",
       "      <td>2.0</td>\n",
       "      <td>10.0</td>\n",
       "    </tr>\n",
       "    <tr>\n",
       "      <th>3</th>\n",
       "      <td>446169.57</td>\n",
       "      <td>4654067.28</td>\n",
       "      <td>280.31</td>\n",
       "      <td>18.0</td>\n",
       "      <td>2.0</td>\n",
       "      <td>11.0</td>\n",
       "    </tr>\n",
       "    <tr>\n",
       "      <th>4</th>\n",
       "      <td>446158.14</td>\n",
       "      <td>4654067.66</td>\n",
       "      <td>279.39</td>\n",
       "      <td>51.0</td>\n",
       "      <td>2.0</td>\n",
       "      <td>11.0</td>\n",
       "    </tr>\n",
       "  </tbody>\n",
       "</table>\n",
       "</div>"
      ],
      "text/plain": [
       "           0           1       2     3    4     5\n",
       "0  446179.84  4654067.44  277.06  96.0  2.0  10.0\n",
       "1  446181.77  4654067.16  278.33  25.0  2.0  10.0\n",
       "2  446183.40  4654067.06  276.64  88.0  2.0  10.0\n",
       "3  446169.57  4654067.28  280.31  18.0  2.0  11.0\n",
       "4  446158.14  4654067.66  279.39  51.0  2.0  11.0"
      ]
     },
     "execution_count": 10,
     "metadata": {},
     "output_type": "execute_result"
    }
   ],
   "source": [
    "lidar_df.head()"
   ]
  },
  {
   "cell_type": "code",
   "execution_count": 11,
   "metadata": {},
   "outputs": [],
   "source": [
    "#rename column names \n",
    "lidar_df.columns = [\"x\",\"y\",\"z\",\"intensity\",\"raw_classification\",\"scan_angle_rank\"]"
   ]
  },
  {
   "cell_type": "code",
   "execution_count": null,
   "metadata": {},
   "outputs": [
    {
     "data": {
      "text/html": [
       "<div>\n",
       "<style scoped>\n",
       "    .dataframe tbody tr th:only-of-type {\n",
       "        vertical-align: middle;\n",
       "    }\n",
       "\n",
       "    .dataframe tbody tr th {\n",
       "        vertical-align: top;\n",
       "    }\n",
       "\n",
       "    .dataframe thead th {\n",
       "        text-align: right;\n",
       "    }\n",
       "</style>\n",
       "<table border=\"1\" class=\"dataframe\">\n",
       "  <thead>\n",
       "    <tr style=\"text-align: right;\">\n",
       "      <th></th>\n",
       "      <th>x</th>\n",
       "      <th>y</th>\n",
       "      <th>z</th>\n",
       "      <th>intensity</th>\n",
       "      <th>raw_classification</th>\n",
       "      <th>scan_angle_rank</th>\n",
       "    </tr>\n",
       "  </thead>\n",
       "  <tbody>\n",
       "    <tr>\n",
       "      <th>0</th>\n",
       "      <td>446179.84</td>\n",
       "      <td>4654067.44</td>\n",
       "      <td>277.06</td>\n",
       "      <td>96.0</td>\n",
       "      <td>2.0</td>\n",
       "      <td>10.0</td>\n",
       "    </tr>\n",
       "    <tr>\n",
       "      <th>1</th>\n",
       "      <td>446181.77</td>\n",
       "      <td>4654067.16</td>\n",
       "      <td>278.33</td>\n",
       "      <td>25.0</td>\n",
       "      <td>2.0</td>\n",
       "      <td>10.0</td>\n",
       "    </tr>\n",
       "    <tr>\n",
       "      <th>2</th>\n",
       "      <td>446183.40</td>\n",
       "      <td>4654067.06</td>\n",
       "      <td>276.64</td>\n",
       "      <td>88.0</td>\n",
       "      <td>2.0</td>\n",
       "      <td>10.0</td>\n",
       "    </tr>\n",
       "    <tr>\n",
       "      <th>3</th>\n",
       "      <td>446169.57</td>\n",
       "      <td>4654067.28</td>\n",
       "      <td>280.31</td>\n",
       "      <td>18.0</td>\n",
       "      <td>2.0</td>\n",
       "      <td>11.0</td>\n",
       "    </tr>\n",
       "    <tr>\n",
       "      <th>4</th>\n",
       "      <td>446158.14</td>\n",
       "      <td>4654067.66</td>\n",
       "      <td>279.39</td>\n",
       "      <td>51.0</td>\n",
       "      <td>2.0</td>\n",
       "      <td>11.0</td>\n",
       "    </tr>\n",
       "  </tbody>\n",
       "</table>\n",
       "</div>"
      ],
      "text/plain": [
       "           x           y       z  intensity  raw_classification  \\\n",
       "0  446179.84  4654067.44  277.06       96.0                 2.0   \n",
       "1  446181.77  4654067.16  278.33       25.0                 2.0   \n",
       "2  446183.40  4654067.06  276.64       88.0                 2.0   \n",
       "3  446169.57  4654067.28  280.31       18.0                 2.0   \n",
       "4  446158.14  4654067.66  279.39       51.0                 2.0   \n",
       "\n",
       "   scan_angle_rank  \n",
       "0             10.0  \n",
       "1             10.0  \n",
       "2             10.0  \n",
       "3             11.0  \n",
       "4             11.0  "
      ]
     },
     "execution_count": 20,
     "metadata": {},
     "output_type": "execute_result"
    }
   ],
   "source": [
    "lidar_df.head()"
   ]
  },
  {
   "cell_type": "code",
   "execution_count": 12,
   "metadata": {},
   "outputs": [],
   "source": [
    "#Transform to geopandas GeoDataFrame\n",
    "crs = None\n",
    "geometry = [Point(xy) for xy in zip(inFile.x,inFile.y)]\n",
    "\n",
    "lidar_geodf = GeoDataFrame(lidar_df, crs=crs, geometry=geometry)\n",
    "lidar_geodf.crs = {'init' :'epsg:2959'} # set correct spatial reference"
   ]
  },
  {
   "cell_type": "code",
   "execution_count": 13,
   "metadata": {},
   "outputs": [
    {
     "data": {
      "text/html": [
       "<div>\n",
       "<style scoped>\n",
       "    .dataframe tbody tr th:only-of-type {\n",
       "        vertical-align: middle;\n",
       "    }\n",
       "\n",
       "    .dataframe tbody tr th {\n",
       "        vertical-align: top;\n",
       "    }\n",
       "\n",
       "    .dataframe thead th {\n",
       "        text-align: right;\n",
       "    }\n",
       "</style>\n",
       "<table border=\"1\" class=\"dataframe\">\n",
       "  <thead>\n",
       "    <tr style=\"text-align: right;\">\n",
       "      <th></th>\n",
       "      <th>x</th>\n",
       "      <th>y</th>\n",
       "      <th>z</th>\n",
       "      <th>intensity</th>\n",
       "      <th>raw_classification</th>\n",
       "      <th>scan_angle_rank</th>\n",
       "      <th>geometry</th>\n",
       "    </tr>\n",
       "  </thead>\n",
       "  <tbody>\n",
       "    <tr>\n",
       "      <th>0</th>\n",
       "      <td>446179.84</td>\n",
       "      <td>4654067.44</td>\n",
       "      <td>277.06</td>\n",
       "      <td>96.0</td>\n",
       "      <td>2.0</td>\n",
       "      <td>10.0</td>\n",
       "      <td>POINT (446179.840 4654067.440)</td>\n",
       "    </tr>\n",
       "    <tr>\n",
       "      <th>1</th>\n",
       "      <td>446181.77</td>\n",
       "      <td>4654067.16</td>\n",
       "      <td>278.33</td>\n",
       "      <td>25.0</td>\n",
       "      <td>2.0</td>\n",
       "      <td>10.0</td>\n",
       "      <td>POINT (446181.770 4654067.160)</td>\n",
       "    </tr>\n",
       "    <tr>\n",
       "      <th>2</th>\n",
       "      <td>446183.40</td>\n",
       "      <td>4654067.06</td>\n",
       "      <td>276.64</td>\n",
       "      <td>88.0</td>\n",
       "      <td>2.0</td>\n",
       "      <td>10.0</td>\n",
       "      <td>POINT (446183.400 4654067.060)</td>\n",
       "    </tr>\n",
       "    <tr>\n",
       "      <th>3</th>\n",
       "      <td>446169.57</td>\n",
       "      <td>4654067.28</td>\n",
       "      <td>280.31</td>\n",
       "      <td>18.0</td>\n",
       "      <td>2.0</td>\n",
       "      <td>11.0</td>\n",
       "      <td>POINT (446169.570 4654067.280)</td>\n",
       "    </tr>\n",
       "    <tr>\n",
       "      <th>4</th>\n",
       "      <td>446158.14</td>\n",
       "      <td>4654067.66</td>\n",
       "      <td>279.39</td>\n",
       "      <td>51.0</td>\n",
       "      <td>2.0</td>\n",
       "      <td>11.0</td>\n",
       "      <td>POINT (446158.140 4654067.660)</td>\n",
       "    </tr>\n",
       "  </tbody>\n",
       "</table>\n",
       "</div>"
      ],
      "text/plain": [
       "           x           y       z  intensity  raw_classification  \\\n",
       "0  446179.84  4654067.44  277.06       96.0                 2.0   \n",
       "1  446181.77  4654067.16  278.33       25.0                 2.0   \n",
       "2  446183.40  4654067.06  276.64       88.0                 2.0   \n",
       "3  446169.57  4654067.28  280.31       18.0                 2.0   \n",
       "4  446158.14  4654067.66  279.39       51.0                 2.0   \n",
       "\n",
       "   scan_angle_rank                        geometry  \n",
       "0             10.0  POINT (446179.840 4654067.440)  \n",
       "1             10.0  POINT (446181.770 4654067.160)  \n",
       "2             10.0  POINT (446183.400 4654067.060)  \n",
       "3             11.0  POINT (446169.570 4654067.280)  \n",
       "4             11.0  POINT (446158.140 4654067.660)  "
      ]
     },
     "execution_count": 13,
     "metadata": {},
     "output_type": "execute_result"
    }
   ],
   "source": [
    "lidar_geodf.head()"
   ]
  },
  {
   "cell_type": "code",
   "execution_count": 14,
   "metadata": {},
   "outputs": [],
   "source": [
    "#turn feet to meters \n",
    "lidar_geodf = lidar_geodf.assign(x = lambda x:(x['x']*0.305))\n",
    "lidar_geodf = lidar_geodf.assign(y = lambda x:(x['y']*0.305))\n",
    "lidar_geodf = lidar_geodf.assign(z = lambda x:(x['z']*0.305))"
   ]
  },
  {
   "cell_type": "code",
   "execution_count": 42,
   "metadata": {},
   "outputs": [],
   "source": [
    "#select x,y,z and save to csv file\n",
    "coordinates = lidar_geodf[['x','y','z']]\n",
    "coordinates \n",
    "#save the first 2000 rows because of lack of computing power when rendering 3D\n",
    "coordinates[:2000].to_csv('../Data/coordinates_in_meters.csv')"
   ]
  },
  {
   "cell_type": "markdown",
   "metadata": {},
   "source": [
    ">> Terrain Visualization"
   ]
  },
  {
   "cell_type": "code",
   "execution_count": null,
   "metadata": {},
   "outputs": [],
   "source": [
    "file=open('../Data/coordinates_in_meters.csv','r')\n",
    "lines=file.readlines()\n",
    "n_line=len(lines)\n",
    "x=[]\n",
    "y=[]\n",
    "z=[]\n",
    "for i in range(1,n_line):\n",
    "    split_line=lines[i].split(\",\")\n",
    "    xyz_t=[]\n",
    "    x.append(float(split_line[0].rstrip()))\n",
    "    y.append(float(split_line[1].rstrip()))\n",
    "    z.append(float(split_line[2].rstrip()))"
   ]
  },
  {
   "cell_type": "code",
   "execution_count": null,
   "metadata": {},
   "outputs": [
    {
     "ename": "ValueError",
     "evalue": "\nImage export using the \"kaleido\" engine requires the kaleido package,\nwhich can be installed using pip:\n    $ pip install -U kaleido\n",
     "output_type": "error",
     "traceback": [
      "\u001b[0;31m---------------------------------------------------------------------------\u001b[0m",
      "\u001b[0;31mValueError\u001b[0m                                Traceback (most recent call last)",
      "\u001b[1;32m/home/r/Documents/AgriTech---USGS-LIDAR/Notebooks/fetch_data.ipynb Cell 16'\u001b[0m in \u001b[0;36m<cell line: 2>\u001b[0;34m()\u001b[0m\n\u001b[1;32m      <a href='vscode-notebook-cell:/home/r/Documents/AgriTech---USGS-LIDAR/Notebooks/fetch_data.ipynb#ch0000014?line=0'>1</a>\u001b[0m fig \u001b[39m=\u001b[39m px\u001b[39m.\u001b[39mscatter(x\u001b[39m=\u001b[39mx, y\u001b[39m=\u001b[39mz,title\u001b[39m=\u001b[39m \u001b[39m\"\u001b[39m\u001b[39mHeight Scatter Plot\u001b[39m\u001b[39m\"\u001b[39m)\n\u001b[0;32m----> <a href='vscode-notebook-cell:/home/r/Documents/AgriTech---USGS-LIDAR/Notebooks/fetch_data.ipynb#ch0000014?line=1'>2</a>\u001b[0m fig\u001b[39m.\u001b[39;49mwrite_image(\u001b[39m'\u001b[39;49m\u001b[39m../Figures/height_scatter_plot.png\u001b[39;49m\u001b[39m'\u001b[39;49m, engine\u001b[39m=\u001b[39;49m\u001b[39m\"\u001b[39;49m\u001b[39mkaleido\u001b[39;49m\u001b[39m\"\u001b[39;49m)\n\u001b[1;32m      <a href='vscode-notebook-cell:/home/r/Documents/AgriTech---USGS-LIDAR/Notebooks/fetch_data.ipynb#ch0000014?line=2'>3</a>\u001b[0m \u001b[39m# , engine='kaleido'\u001b[39;00m\n\u001b[1;32m      <a href='vscode-notebook-cell:/home/r/Documents/AgriTech---USGS-LIDAR/Notebooks/fetch_data.ipynb#ch0000014?line=3'>4</a>\u001b[0m fig\u001b[39m.\u001b[39mshow()\n",
      "File \u001b[0;32m~/.local/lib/python3.10/site-packages/plotly/basedatatypes.py:3829\u001b[0m, in \u001b[0;36mBaseFigure.write_image\u001b[0;34m(self, *args, **kwargs)\u001b[0m\n\u001b[1;32m   3769\u001b[0m \u001b[39m\"\"\"\u001b[39;00m\n\u001b[1;32m   3770\u001b[0m \u001b[39mConvert a figure to a static image and write it to a file or writeable\u001b[39;00m\n\u001b[1;32m   3771\u001b[0m \u001b[39mobject\u001b[39;00m\n\u001b[0;32m   (...)\u001b[0m\n\u001b[1;32m   3825\u001b[0m \u001b[39mNone\u001b[39;00m\n\u001b[1;32m   3826\u001b[0m \u001b[39m\"\"\"\u001b[39;00m\n\u001b[1;32m   3827\u001b[0m \u001b[39mimport\u001b[39;00m \u001b[39mplotly\u001b[39;00m\u001b[39m.\u001b[39;00m\u001b[39mio\u001b[39;00m \u001b[39mas\u001b[39;00m \u001b[39mpio\u001b[39;00m\n\u001b[0;32m-> 3829\u001b[0m \u001b[39mreturn\u001b[39;00m pio\u001b[39m.\u001b[39;49mwrite_image(\u001b[39mself\u001b[39;49m, \u001b[39m*\u001b[39;49margs, \u001b[39m*\u001b[39;49m\u001b[39m*\u001b[39;49mkwargs)\n",
      "File \u001b[0;32m~/.local/lib/python3.10/site-packages/plotly/io/_kaleido.py:267\u001b[0m, in \u001b[0;36mwrite_image\u001b[0;34m(fig, file, format, scale, width, height, validate, engine)\u001b[0m\n\u001b[1;32m    251\u001b[0m             \u001b[39mraise\u001b[39;00m \u001b[39mValueError\u001b[39;00m(\n\u001b[1;32m    252\u001b[0m                 \u001b[39m\"\"\"\u001b[39;00m\n\u001b[1;32m    253\u001b[0m \u001b[39mCannot infer image type from output path '{file}'.\u001b[39;00m\n\u001b[0;32m   (...)\u001b[0m\n\u001b[1;32m    261\u001b[0m                 )\n\u001b[1;32m    262\u001b[0m             )\n\u001b[1;32m    264\u001b[0m     \u001b[39m# Request image\u001b[39;00m\n\u001b[1;32m    265\u001b[0m     \u001b[39m# -------------\u001b[39;00m\n\u001b[1;32m    266\u001b[0m     \u001b[39m# Do this first so we don't create a file if image conversion fails\u001b[39;00m\n\u001b[0;32m--> 267\u001b[0m     img_data \u001b[39m=\u001b[39m to_image(\n\u001b[1;32m    268\u001b[0m         fig,\n\u001b[1;32m    269\u001b[0m         \u001b[39mformat\u001b[39;49m\u001b[39m=\u001b[39;49m\u001b[39mformat\u001b[39;49m,\n\u001b[1;32m    270\u001b[0m         scale\u001b[39m=\u001b[39;49mscale,\n\u001b[1;32m    271\u001b[0m         width\u001b[39m=\u001b[39;49mwidth,\n\u001b[1;32m    272\u001b[0m         height\u001b[39m=\u001b[39;49mheight,\n\u001b[1;32m    273\u001b[0m         validate\u001b[39m=\u001b[39;49mvalidate,\n\u001b[1;32m    274\u001b[0m         engine\u001b[39m=\u001b[39;49mengine,\n\u001b[1;32m    275\u001b[0m     )\n\u001b[1;32m    277\u001b[0m     \u001b[39m# Open file\u001b[39;00m\n\u001b[1;32m    278\u001b[0m     \u001b[39m# ---------\u001b[39;00m\n\u001b[1;32m    279\u001b[0m     \u001b[39mif\u001b[39;00m path \u001b[39mis\u001b[39;00m \u001b[39mNone\u001b[39;00m:\n\u001b[1;32m    280\u001b[0m         \u001b[39m# We previously failed to make sense of `file` as a pathlib object.\u001b[39;00m\n\u001b[1;32m    281\u001b[0m         \u001b[39m# Attempt to write to `file` as an open file descriptor.\u001b[39;00m\n",
      "File \u001b[0;32m~/.local/lib/python3.10/site-packages/plotly/io/_kaleido.py:133\u001b[0m, in \u001b[0;36mto_image\u001b[0;34m(fig, format, width, height, scale, validate, engine)\u001b[0m\n\u001b[1;32m    131\u001b[0m     \u001b[39m# Raise informative error message if Kaleido is not installed\u001b[39;00m\n\u001b[1;32m    132\u001b[0m     \u001b[39mif\u001b[39;00m scope \u001b[39mis\u001b[39;00m \u001b[39mNone\u001b[39;00m:\n\u001b[0;32m--> 133\u001b[0m         \u001b[39mraise\u001b[39;00m \u001b[39mValueError\u001b[39;00m(\n\u001b[1;32m    134\u001b[0m             \u001b[39m\"\"\"\u001b[39;00m\n\u001b[1;32m    135\u001b[0m \u001b[39mImage export using the \"kaleido\" engine requires the kaleido package,\u001b[39;00m\n\u001b[1;32m    136\u001b[0m \u001b[39mwhich can be installed using pip:\u001b[39;00m\n\u001b[1;32m    137\u001b[0m \u001b[39m    $ pip install -U kaleido\u001b[39;00m\n\u001b[1;32m    138\u001b[0m \u001b[39m\"\"\"\u001b[39;00m\n\u001b[1;32m    139\u001b[0m         )\n\u001b[1;32m    141\u001b[0m     \u001b[39m# Validate figure\u001b[39;00m\n\u001b[1;32m    142\u001b[0m     \u001b[39m# ---------------\u001b[39;00m\n\u001b[1;32m    143\u001b[0m     fig_dict \u001b[39m=\u001b[39m validate_coerce_fig_to_dict(fig, validate)\n",
      "\u001b[0;31mValueError\u001b[0m: \nImage export using the \"kaleido\" engine requires the kaleido package,\nwhich can be installed using pip:\n    $ pip install -U kaleido\n"
     ]
    }
   ],
   "source": [
    "fig = px.scatter(x=x, y=z,title= \"Height Scatter Plot\")\n",
    "fig.write_image('../Figures/height_scatter_plot.png', engine=\"kaleido\")\n",
    "# , engine='kaleido'\n",
    "fig.show()"
   ]
  }
 ],
 "metadata": {
  "kernelspec": {
   "display_name": "Python 3.10.4 64-bit",
   "language": "python",
   "name": "python3"
  },
  "language_info": {
   "codemirror_mode": {
    "name": "ipython",
    "version": 3
   },
   "file_extension": ".py",
   "mimetype": "text/x-python",
   "name": "python",
   "nbconvert_exporter": "python",
   "pygments_lexer": "ipython3",
   "version": "3.10.4"
  },
  "orig_nbformat": 4,
  "vscode": {
   "interpreter": {
    "hash": "916dbcbb3f70747c44a77c7bcd40155683ae19c65e1c03b4aa3499c5328201f1"
   }
  }
 },
 "nbformat": 4,
 "nbformat_minor": 2
}
